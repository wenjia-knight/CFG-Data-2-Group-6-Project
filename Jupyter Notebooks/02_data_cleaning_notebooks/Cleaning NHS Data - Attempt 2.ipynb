{
 "cells": [
  {
   "cell_type": "markdown",
   "id": "35541fbf",
   "metadata": {},
   "source": [
    "## Cleaning NHS Dataset - Attempt 2\n",
    "\n",
    "Written by Autumn\n",
    "\n",
    "This is my 2nd attempt at cleaning the NHS data ready for analysis.\n",
    "\n",
    "I obtained this data set used in this program the following link: https://digital.nhs.uk/data-and-information/publications/statistical/mental-health-services-monthly-statistics/final-may-provisional-june-2018\n",
    "\n",
    "There is a publication for each month and as my intial method did not provide the correct results, I looked for other files which could provide the data we need.\n",
    "\n",
    "For this example I downloaded the below file:\n",
    "\n",
    "<img src=\"data/images/nhs_file_may_2018.png\">\n",
    "\n",
    "I noticed that the first row of the data in this file had the figure we need the figures we needed so I created a function which would take in a list of files and then produce the cleaned versions ready to be joined together.\n",
    "\n",
    "Below is the function i created:"
   ]
  },
  {
   "cell_type": "markdown",
   "id": "83e2a9be",
   "metadata": {},
   "source": [
    "First I imported the data and the pandas library and madea copy of the data so the raw data remains unchanged:"
   ]
  },
  {
   "cell_type": "code",
   "execution_count": 5,
   "id": "aa561270",
   "metadata": {},
   "outputs": [
    {
     "data": {
      "text/plain": [
       "REPORTING_PERIOD                                                                                                  object\n",
       "STATUS                                                                                                            object\n",
       "BREAKDOWN                                                                                                         object\n",
       "PRIMARY_LEVEL                                                                                                     object\n",
       "PRIMARY_LEVEL_DESCRIPTION                                                                                         object\n",
       "                                                                                                                   ...  \n",
       "CCR71a - New Urgent Referrals to Crisis Care teams in RP, Aged 18 and over                                        object\n",
       "CCR72 - New Emergency Referrals to Crisis Care teams in RP with first face to face contact                        object\n",
       "CCR72a - New Emergency Referrals to Crisis Care teams in RP, with first face to face contact, Aged 18 and over    object\n",
       "CCR73 - New Urgent Referrals to Crisis Care teams in RP with first face to face contact                           object\n",
       "CCR73a - New Urgent Referrals to Crisis Care teams in RP, with first face to face contact, Aged 18 and over       object\n",
       "Length: 104, dtype: object"
      ]
     },
     "execution_count": 5,
     "metadata": {},
     "output_type": "execute_result"
    }
   ],
   "source": [
    "import pandas as pd\n",
    "\n",
    "data = pd.read_csv(\"data/NHS_raw/NHS_May_18.csv\")\n",
    "\n",
    "data_copy = data.copy()\n",
    "\n",
    "data_copy.dtypes"
   ]
  },
  {
   "cell_type": "markdown",
   "id": "69acb5e0",
   "metadata": {},
   "source": [
    "All the columns have been been read in as 'object' data types and there are a lot of columns. We will be using the REPORTING_PERIOD and MHS32 - Referrals starting in RP columns to analyse the data so I will also remove all the columns that we won't be using."
   ]
  },
  {
   "cell_type": "code",
   "execution_count": 6,
   "id": "79f95b6f",
   "metadata": {
    "scrolled": true
   },
   "outputs": [
    {
     "data": {
      "text/html": [
       "<div>\n",
       "<style scoped>\n",
       "    .dataframe tbody tr th:only-of-type {\n",
       "        vertical-align: middle;\n",
       "    }\n",
       "\n",
       "    .dataframe tbody tr th {\n",
       "        vertical-align: top;\n",
       "    }\n",
       "\n",
       "    .dataframe thead th {\n",
       "        text-align: right;\n",
       "    }\n",
       "</style>\n",
       "<table border=\"1\" class=\"dataframe\">\n",
       "  <thead>\n",
       "    <tr style=\"text-align: right;\">\n",
       "      <th></th>\n",
       "      <th>REPORTING_PERIOD</th>\n",
       "      <th>MHS32 - Referrals starting in RP</th>\n",
       "    </tr>\n",
       "  </thead>\n",
       "  <tbody>\n",
       "    <tr>\n",
       "      <th>0</th>\n",
       "      <td>May-18</td>\n",
       "      <td>308921</td>\n",
       "    </tr>\n",
       "    <tr>\n",
       "      <th>1</th>\n",
       "      <td>May-18</td>\n",
       "      <td>795</td>\n",
       "    </tr>\n",
       "    <tr>\n",
       "      <th>2</th>\n",
       "      <td>May-18</td>\n",
       "      <td>670</td>\n",
       "    </tr>\n",
       "    <tr>\n",
       "      <th>3</th>\n",
       "      <td>May-18</td>\n",
       "      <td>955</td>\n",
       "    </tr>\n",
       "    <tr>\n",
       "      <th>4</th>\n",
       "      <td>May-18</td>\n",
       "      <td>1410</td>\n",
       "    </tr>\n",
       "    <tr>\n",
       "      <th>...</th>\n",
       "      <td>...</td>\n",
       "      <td>...</td>\n",
       "    </tr>\n",
       "    <tr>\n",
       "      <th>2702</th>\n",
       "      <td>May-18</td>\n",
       "      <td>-</td>\n",
       "    </tr>\n",
       "    <tr>\n",
       "      <th>2703</th>\n",
       "      <td>May-18</td>\n",
       "      <td>-</td>\n",
       "    </tr>\n",
       "    <tr>\n",
       "      <th>2704</th>\n",
       "      <td>May-18</td>\n",
       "      <td>-</td>\n",
       "    </tr>\n",
       "    <tr>\n",
       "      <th>2705</th>\n",
       "      <td>May-18</td>\n",
       "      <td>-</td>\n",
       "    </tr>\n",
       "    <tr>\n",
       "      <th>2706</th>\n",
       "      <td>May-18</td>\n",
       "      <td>-</td>\n",
       "    </tr>\n",
       "  </tbody>\n",
       "</table>\n",
       "<p>2707 rows × 2 columns</p>\n",
       "</div>"
      ],
      "text/plain": [
       "     REPORTING_PERIOD MHS32 - Referrals starting in RP\n",
       "0              May-18                           308921\n",
       "1              May-18                              795\n",
       "2              May-18                              670\n",
       "3              May-18                              955\n",
       "4              May-18                             1410\n",
       "...               ...                              ...\n",
       "2702           May-18                                -\n",
       "2703           May-18                                -\n",
       "2704           May-18                                -\n",
       "2705           May-18                                -\n",
       "2706           May-18                                -\n",
       "\n",
       "[2707 rows x 2 columns]"
      ]
     },
     "execution_count": 6,
     "metadata": {},
     "output_type": "execute_result"
    }
   ],
   "source": [
    "data_copy = data_copy[['REPORTING_PERIOD', 'MHS32 - Referrals starting in RP']]\n",
    "\n",
    "data_copy"
   ]
  },
  {
   "cell_type": "code",
   "execution_count": 7,
   "id": "d8366866",
   "metadata": {},
   "outputs": [
    {
     "data": {
      "text/html": [
       "<div>\n",
       "<style scoped>\n",
       "    .dataframe tbody tr th:only-of-type {\n",
       "        vertical-align: middle;\n",
       "    }\n",
       "\n",
       "    .dataframe tbody tr th {\n",
       "        vertical-align: top;\n",
       "    }\n",
       "\n",
       "    .dataframe thead th {\n",
       "        text-align: right;\n",
       "    }\n",
       "</style>\n",
       "<table border=\"1\" class=\"dataframe\">\n",
       "  <thead>\n",
       "    <tr style=\"text-align: right;\">\n",
       "      <th></th>\n",
       "      <th>month_start_date</th>\n",
       "      <th>new_referrals_count</th>\n",
       "    </tr>\n",
       "  </thead>\n",
       "  <tbody>\n",
       "    <tr>\n",
       "      <th>0</th>\n",
       "      <td>May-18</td>\n",
       "      <td>308921</td>\n",
       "    </tr>\n",
       "    <tr>\n",
       "      <th>1</th>\n",
       "      <td>May-18</td>\n",
       "      <td>795</td>\n",
       "    </tr>\n",
       "    <tr>\n",
       "      <th>2</th>\n",
       "      <td>May-18</td>\n",
       "      <td>670</td>\n",
       "    </tr>\n",
       "    <tr>\n",
       "      <th>3</th>\n",
       "      <td>May-18</td>\n",
       "      <td>955</td>\n",
       "    </tr>\n",
       "    <tr>\n",
       "      <th>4</th>\n",
       "      <td>May-18</td>\n",
       "      <td>1410</td>\n",
       "    </tr>\n",
       "    <tr>\n",
       "      <th>...</th>\n",
       "      <td>...</td>\n",
       "      <td>...</td>\n",
       "    </tr>\n",
       "    <tr>\n",
       "      <th>2702</th>\n",
       "      <td>May-18</td>\n",
       "      <td>-</td>\n",
       "    </tr>\n",
       "    <tr>\n",
       "      <th>2703</th>\n",
       "      <td>May-18</td>\n",
       "      <td>-</td>\n",
       "    </tr>\n",
       "    <tr>\n",
       "      <th>2704</th>\n",
       "      <td>May-18</td>\n",
       "      <td>-</td>\n",
       "    </tr>\n",
       "    <tr>\n",
       "      <th>2705</th>\n",
       "      <td>May-18</td>\n",
       "      <td>-</td>\n",
       "    </tr>\n",
       "    <tr>\n",
       "      <th>2706</th>\n",
       "      <td>May-18</td>\n",
       "      <td>-</td>\n",
       "    </tr>\n",
       "  </tbody>\n",
       "</table>\n",
       "<p>2707 rows × 2 columns</p>\n",
       "</div>"
      ],
      "text/plain": [
       "     month_start_date new_referrals_count\n",
       "0              May-18              308921\n",
       "1              May-18                 795\n",
       "2              May-18                 670\n",
       "3              May-18                 955\n",
       "4              May-18                1410\n",
       "...               ...                 ...\n",
       "2702           May-18                   -\n",
       "2703           May-18                   -\n",
       "2704           May-18                   -\n",
       "2705           May-18                   -\n",
       "2706           May-18                   -\n",
       "\n",
       "[2707 rows x 2 columns]"
      ]
     },
     "execution_count": 7,
     "metadata": {},
     "output_type": "execute_result"
    }
   ],
   "source": [
    "data_copy.rename(columns = {'REPORTING_PERIOD': 'month_start_date', 'MHS32 - Referrals starting in RP': 'new_referrals'}\n",
    "                           , inplace=True)\n",
    "data_copy"
   ]
  },
  {
   "cell_type": "markdown",
   "id": "02cb1a0d",
   "metadata": {},
   "source": [
    "I converted the remaining columns to string data types so they can be queried and manipulated."
   ]
  },
  {
   "cell_type": "code",
   "execution_count": 8,
   "id": "555d8711",
   "metadata": {},
   "outputs": [
    {
     "data": {
      "text/plain": [
       "month_start_date       string\n",
       "new_referrals_count    string\n",
       "dtype: object"
      ]
     },
     "execution_count": 8,
     "metadata": {},
     "output_type": "execute_result"
    }
   ],
   "source": [
    "data_copy[['month_start_date', 'new_referrals']] = data_copy[\n",
    "    ['month_start_date', 'new_referrals']].astype(\"string\")\n",
    "\n",
    "data_copy.dtypes"
   ]
  },
  {
   "cell_type": "markdown",
   "id": "f1dc5f40",
   "metadata": {},
   "source": [
    "Now I can convert the reporting_period_start column to a datetime datatype so we can filter by date range."
   ]
  },
  {
   "cell_type": "code",
   "execution_count": 10,
   "id": "24728ebd",
   "metadata": {},
   "outputs": [
    {
     "data": {
      "text/plain": [
       "month_start_date       datetime64[ns]\n",
       "new_referrals_count            string\n",
       "dtype: object"
      ]
     },
     "execution_count": 10,
     "metadata": {},
     "output_type": "execute_result"
    }
   ],
   "source": [
    "data_copy[['month_start_date', ]] = data_copy[['month_start_date', ]].apply(pd.to_datetime, format='%b-%y')\n",
    "data_copy.dtypes"
   ]
  },
  {
   "cell_type": "markdown",
   "id": "36a15a2b",
   "metadata": {},
   "source": [
    "Now we can take just the first row as this is the sum of all the new referrals in the reporting period"
   ]
  },
  {
   "cell_type": "code",
   "execution_count": 11,
   "id": "a5caec2e",
   "metadata": {},
   "outputs": [
    {
     "data": {
      "text/html": [
       "<div>\n",
       "<style scoped>\n",
       "    .dataframe tbody tr th:only-of-type {\n",
       "        vertical-align: middle;\n",
       "    }\n",
       "\n",
       "    .dataframe tbody tr th {\n",
       "        vertical-align: top;\n",
       "    }\n",
       "\n",
       "    .dataframe thead th {\n",
       "        text-align: right;\n",
       "    }\n",
       "</style>\n",
       "<table border=\"1\" class=\"dataframe\">\n",
       "  <thead>\n",
       "    <tr style=\"text-align: right;\">\n",
       "      <th></th>\n",
       "      <th>month_start_date</th>\n",
       "      <th>new_referrals_count</th>\n",
       "    </tr>\n",
       "  </thead>\n",
       "  <tbody>\n",
       "    <tr>\n",
       "      <th>0</th>\n",
       "      <td>2018-05-01</td>\n",
       "      <td>308921</td>\n",
       "    </tr>\n",
       "  </tbody>\n",
       "</table>\n",
       "</div>"
      ],
      "text/plain": [
       "  month_start_date new_referrals_count\n",
       "0       2018-05-01              308921"
      ]
     },
     "execution_count": 11,
     "metadata": {},
     "output_type": "execute_result"
    }
   ],
   "source": [
    "cleaned_df = data_copy.head(1)\n",
    "\n",
    "cleaned_df"
   ]
  },
  {
   "cell_type": "markdown",
   "id": "c0d5bd0e",
   "metadata": {},
   "source": [
    "And the file can be written to a csv."
   ]
  },
  {
   "cell_type": "code",
   "execution_count": null,
   "id": "ca1896a1",
   "metadata": {},
   "outputs": [],
   "source": [
    "cleaned_df.to_csv('data/NHS_cleaned/NHS_May_18_cleaned.csv', encoding='utf-8')"
   ]
  },
  {
   "cell_type": "markdown",
   "id": "bbce48ba",
   "metadata": {},
   "source": [
    "The plan was to join all these monthly files together to form the full data set. Unfortunately, this function only works for files between May 2018 and April 2019. After this, the file name stayed the same on each publication but the content of the file changed and it no longer provided the figures we needed. Then the following year, the file name was no longer published at all. Also, before May 2018, the day format was different so the function couldn't be used on these files without having to amend the function slightly. However, even if these files has the same date format as the files i could use, we still wouldn't have had enough data to cover the time period we need due to the missing information."
   ]
  }
 ],
 "metadata": {
  "kernelspec": {
   "display_name": "Python 3 (ipykernel)",
   "language": "python",
   "name": "python3"
  },
  "language_info": {
   "codemirror_mode": {
    "name": "ipython",
    "version": 3
   },
   "file_extension": ".py",
   "mimetype": "text/x-python",
   "name": "python",
   "nbconvert_exporter": "python",
   "pygments_lexer": "ipython3",
   "version": "3.11.2"
  }
 },
 "nbformat": 4,
 "nbformat_minor": 5
}
