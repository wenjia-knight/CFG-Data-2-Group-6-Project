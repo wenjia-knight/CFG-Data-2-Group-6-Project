{
 "cells": [
  {
   "cell_type": "code",
   "execution_count": 17,
   "id": "925bb999",
   "metadata": {},
   "outputs": [],
   "source": [
    "import pandas as pd\n",
    "import seaborn as sns\n",
    "import matplotlib.pyplot as plt \n",
    "import numpy as np"
   ]
  },
  {
   "cell_type": "code",
   "execution_count": 20,
   "id": "8b4fe6c7",
   "metadata": {},
   "outputs": [
    {
     "data": {
      "text/html": [
       "<div>\n",
       "<style scoped>\n",
       "    .dataframe tbody tr th:only-of-type {\n",
       "        vertical-align: middle;\n",
       "    }\n",
       "\n",
       "    .dataframe tbody tr th {\n",
       "        vertical-align: top;\n",
       "    }\n",
       "\n",
       "    .dataframe thead th {\n",
       "        text-align: right;\n",
       "    }\n",
       "</style>\n",
       "<table border=\"1\" class=\"dataframe\">\n",
       "  <thead>\n",
       "    <tr style=\"text-align: right;\">\n",
       "      <th></th>\n",
       "      <th>date</th>\n",
       "      <th>position</th>\n",
       "      <th>title</th>\n",
       "      <th>mood</th>\n",
       "      <th>positivity</th>\n",
       "      <th>year</th>\n",
       "    </tr>\n",
       "  </thead>\n",
       "  <tbody>\n",
       "    <tr>\n",
       "      <th>0</th>\n",
       "      <td>2018-04-27</td>\n",
       "      <td>1</td>\n",
       "      <td>ONE KISS</td>\n",
       "      <td>happy</td>\n",
       "      <td>100</td>\n",
       "      <td>2018</td>\n",
       "    </tr>\n",
       "    <tr>\n",
       "      <th>1</th>\n",
       "      <td>2018-04-27</td>\n",
       "      <td>2</td>\n",
       "      <td>NO TEARS LEFT TO CRY</td>\n",
       "      <td>agitated</td>\n",
       "      <td>0</td>\n",
       "      <td>2018</td>\n",
       "    </tr>\n",
       "    <tr>\n",
       "      <th>2</th>\n",
       "      <td>2018-04-27</td>\n",
       "      <td>3</td>\n",
       "      <td>NICE FOR WHAT</td>\n",
       "      <td>happy</td>\n",
       "      <td>100</td>\n",
       "      <td>2018</td>\n",
       "    </tr>\n",
       "    <tr>\n",
       "      <th>3</th>\n",
       "      <td>2018-04-27</td>\n",
       "      <td>4</td>\n",
       "      <td>FREAKY FRIDAY</td>\n",
       "      <td>happy</td>\n",
       "      <td>100</td>\n",
       "      <td>2018</td>\n",
       "    </tr>\n",
       "    <tr>\n",
       "      <th>4</th>\n",
       "      <td>2018-04-27</td>\n",
       "      <td>5</td>\n",
       "      <td>PARADISE</td>\n",
       "      <td>happy</td>\n",
       "      <td>100</td>\n",
       "      <td>2018</td>\n",
       "    </tr>\n",
       "    <tr>\n",
       "      <th>...</th>\n",
       "      <td>...</td>\n",
       "      <td>...</td>\n",
       "      <td>...</td>\n",
       "      <td>...</td>\n",
       "      <td>...</td>\n",
       "      <td>...</td>\n",
       "    </tr>\n",
       "    <tr>\n",
       "      <th>10435</th>\n",
       "      <td>2023-04-21</td>\n",
       "      <td>36</td>\n",
       "      <td>SURE THING</td>\n",
       "      <td>agitated</td>\n",
       "      <td>0</td>\n",
       "      <td>2023</td>\n",
       "    </tr>\n",
       "    <tr>\n",
       "      <th>10436</th>\n",
       "      <td>2023-04-21</td>\n",
       "      <td>37</td>\n",
       "      <td>CEILINGS</td>\n",
       "      <td>sad</td>\n",
       "      <td>0</td>\n",
       "      <td>2023</td>\n",
       "    </tr>\n",
       "    <tr>\n",
       "      <th>10437</th>\n",
       "      <td>2023-04-21</td>\n",
       "      <td>38</td>\n",
       "      <td>HERE</td>\n",
       "      <td>agitated</td>\n",
       "      <td>0</td>\n",
       "      <td>2023</td>\n",
       "    </tr>\n",
       "    <tr>\n",
       "      <th>10438</th>\n",
       "      <td>2023-04-21</td>\n",
       "      <td>39</td>\n",
       "      <td>SNOOZE</td>\n",
       "      <td>agitated</td>\n",
       "      <td>0</td>\n",
       "      <td>2023</td>\n",
       "    </tr>\n",
       "    <tr>\n",
       "      <th>10439</th>\n",
       "      <td>2023-04-21</td>\n",
       "      <td>40</td>\n",
       "      <td>I'M GOOD (BLUE)</td>\n",
       "      <td>agitated</td>\n",
       "      <td>0</td>\n",
       "      <td>2023</td>\n",
       "    </tr>\n",
       "  </tbody>\n",
       "</table>\n",
       "<p>10440 rows × 6 columns</p>\n",
       "</div>"
      ],
      "text/plain": [
       "             date  position                 title      mood  positivity  year\n",
       "0      2018-04-27         1              ONE KISS     happy         100  2018\n",
       "1      2018-04-27         2  NO TEARS LEFT TO CRY  agitated           0  2018\n",
       "2      2018-04-27         3         NICE FOR WHAT     happy         100  2018\n",
       "3      2018-04-27         4         FREAKY FRIDAY     happy         100  2018\n",
       "4      2018-04-27         5              PARADISE     happy         100  2018\n",
       "...           ...       ...                   ...       ...         ...   ...\n",
       "10435  2023-04-21        36            SURE THING  agitated           0  2023\n",
       "10436  2023-04-21        37              CEILINGS       sad           0  2023\n",
       "10437  2023-04-21        38                  HERE  agitated           0  2023\n",
       "10438  2023-04-21        39                SNOOZE  agitated           0  2023\n",
       "10439  2023-04-21        40       I'M GOOD (BLUE)  agitated           0  2023\n",
       "\n",
       "[10440 rows x 6 columns]"
      ]
     },
     "execution_count": 20,
     "metadata": {},
     "output_type": "execute_result"
    }
   ],
   "source": [
    "referrals_df=pd.read_csv('../datasets/NHS_manual_data_cleaned_reformat.csv')\n",
    "mood_df=pd.read_csv('../datasets/popular_tracks_and_moods.csv')             #mood df\n",
    "referrals_df.head()\n",
    "\n",
    "mood_df = mood_df.loc[:, ['date','position','title','mood']]    #drop all columns except date , position and mood\n",
    "mood_df['positivity']=mood_df['mood']\n",
    "mood_df['positivity']=np.where((mood_df['positivity']=='happy') | (mood_df['positivity']== 'calm'),100,0) #convert positive moods to numbers, if not pos parse as 0\n",
    "mood_df['year']=mood_df['date'].str[0:4]\n",
    "\n",
    "mood_df.year = mood_df.year.astype(np.int64)\n",
    "mood_df\n"
   ]
  },
  {
   "cell_type": "code",
   "execution_count": 19,
   "id": "1d49a3a0",
   "metadata": {},
   "outputs": [
    {
     "name": "stderr",
     "output_type": "stream",
     "text": [
      "C:\\Users\\Isobel\\AppData\\Local\\Temp\\ipykernel_21988\\3567839101.py:2: FutureWarning: The default value of numeric_only in DataFrame.corr is deprecated. In a future version, it will default to False. Select only valid columns or specify the value of numeric_only to silence this warning.\n",
      "  correlation_matrix=mood_df.corr()\n"
     ]
    },
    {
     "data": {
      "text/plain": [
       "<Axes: >"
      ]
     },
     "execution_count": 19,
     "metadata": {},
     "output_type": "execute_result"
    },
    {
     "data": {
      "image/png": "[encoded data removed]",
      "text/plain": [
       "<Figure size 1000x800 with 2 Axes>"
      ]
     },
     "metadata": {},
     "output_type": "display_data"
    }
   ],
   "source": [
    "plt.figure(figsize=(10,8))\n",
    "correlation_matrix=mood_df.corr()\n",
    "sns.heatmap(data=correlation_matrix, annot=True)"
   ]
  },
  {
   "cell_type": "code",
   "execution_count": null,
   "id": "32110981",
   "metadata": {},
   "outputs": [],
   "source": [
    "from sklearn.model_selection import train_test_split"
   ]
  }
 ],
 "metadata": {
  "kernelspec": {
   "display_name": "Python 3 (ipykernel)",
   "language": "python",
   "name": "python3"
  },
  "language_info": {
   "codemirror_mode": {
    "name": "ipython",
    "version": 3
   },
   "file_extension": ".py",
   "mimetype": "text/x-python",
   "name": "python",
   "nbconvert_exporter": "python",
   "pygments_lexer": "ipython3",
   "version": "3.8.5"
  }
 },
 "nbformat": 4,
 "nbformat_minor": 5
}
