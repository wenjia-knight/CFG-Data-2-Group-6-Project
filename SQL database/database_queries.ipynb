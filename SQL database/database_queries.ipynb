{
 "cells": [
  {
   "cell_type": "code",
   "execution_count": 1,
   "id": "54f717c9",
   "metadata": {},
   "outputs": [],
   "source": [
    "import mysql.connector\n",
    "from config import HOST, USER, PASSWORD\n",
    "# import tabulate library to make the output nicer to read.\n",
    "from tabulate import tabulate"
   ]
  },
  {
   "cell_type": "code",
   "execution_count": 2,
   "id": "0f890acd",
   "metadata": {},
   "outputs": [],
   "source": [
    "# Establish a connection to the local MySQL server:\n",
    "mydb = mysql.connector.connect(\n",
    "    host=HOST,\n",
    "    user=USER,\n",
    "    password=PASSWORD,\n",
    "    database='popular_tracks_and_features',\n",
    "    auth_plugin='mysql_native_password',\n",
    ")\n",
    "\n",
    "mycursor = mydb.cursor()"
   ]
  },
  {
   "cell_type": "markdown",
   "id": "e5ef428c",
   "metadata": {},
   "source": [
    "#### What are the most popular 40 songs that appeared in the charts (popularity based on the number of weeks the song has been in the charts)"
   ]
  },
  {
   "cell_type": "code",
   "execution_count": 3,
   "id": "215c8fc2",
   "metadata": {
    "scrolled": false
   },
   "outputs": [
    {
     "name": "stdout",
     "output_type": "stream",
     "text": [
      "+------------------+------------------------------+---------------------------------+\n",
      "|   weeks_on_chart | artist                       | title                           |\n",
      "+==================+==============================+=================================+\n",
      "|               70 | WEEKND                       | BLINDING LIGHTS                 |\n",
      "+------------------+------------------------------+---------------------------------+\n",
      "|               69 | LEWIS CAPALDI                | SOMEONE YOU LOVED               |\n",
      "+------------------+------------------------------+---------------------------------+\n",
      "|               62 | GLASS ANIMALS                | HEAT WAVES                      |\n",
      "+------------------+------------------------------+---------------------------------+\n",
      "|               52 | ED SHEERAN                   | BAD HABITS                      |\n",
      "+------------------+------------------------------+---------------------------------+\n",
      "|               52 | TONES & I                    | DANCE MONKEY                    |\n",
      "+------------------+------------------------------+---------------------------------+\n",
      "|               47 | HARRY STYLES                 | AS IT WAS                       |\n",
      "+------------------+------------------------------+---------------------------------+\n",
      "|               47 | GEORGE EZRA                  | SHOTGUN                         |\n",
      "+------------------+------------------------------+---------------------------------+\n",
      "|               43 | DUA LIPA                     | LEVITATING                      |\n",
      "+------------------+------------------------------+---------------------------------+\n",
      "|               40 | ED SHEERAN                   | SHIVERS                         |\n",
      "+------------------+------------------------------+---------------------------------+\n",
      "|               38 | HARRY STYLES                 | WATERMELON SUGAR                |\n",
      "+------------------+------------------------------+---------------------------------+\n",
      "|               37 | JOEL CORRY FT MNEK           | HEAD & HEART                    |\n",
      "+------------------+------------------------------+---------------------------------+\n",
      "|               36 | SAM FENDER                   | SEVENTEEN GOING UNDER           |\n",
      "+------------------+------------------------------+---------------------------------+\n",
      "|               35 | BILLIE EILISH                | BAD GUY                         |\n",
      "+------------------+------------------------------+---------------------------------+\n",
      "|               35 | ELTON JOHN & DUA LIPA        | COLD HEART                      |\n",
      "+------------------+------------------------------+---------------------------------+\n",
      "|               35 | WEEKND                       | SAVE YOUR TEARS                 |\n",
      "+------------------+------------------------------+---------------------------------+\n",
      "|               34 | DUA LIPA                     | DON'T START NOW                 |\n",
      "+------------------+------------------------------+---------------------------------+\n",
      "|               33 | GEORGE EZRA                  | GREEN GREEN GRASS               |\n",
      "+------------------+------------------------------+---------------------------------+\n",
      "|               32 | REMA                         | CALM DOWN                       |\n",
      "+------------------+------------------------------+---------------------------------+\n",
      "|               30 | MARIAH CAREY                 | ALL I WANT FOR CHRISTMAS IS YOU |\n",
      "+------------------+------------------------------+---------------------------------+\n",
      "|               30 | JAX JONES FT MNEK            | WHERE DID YOU GO                |\n",
      "+------------------+------------------------------+---------------------------------+\n",
      "|               29 | FIREBOY DML & ED SHEERAN     | PERU                            |\n",
      "+------------------+------------------------------+---------------------------------+\n",
      "|               29 | LADY GAGA & BRADLEY COOPER   | SHALLOW                         |\n",
      "+------------------+------------------------------+---------------------------------+\n",
      "|               29 | LIL NAS X                    | OLD TOWN ROAD                   |\n",
      "+------------------+------------------------------+---------------------------------+\n",
      "|               28 | CALVIN HARRIS & DUA LIPA     | ONE KISS                        |\n",
      "+------------------+------------------------------+---------------------------------+\n",
      "|               27 | FREYA RIDINGS                | LOST WITHOUT YOU                |\n",
      "+------------------+------------------------------+---------------------------------+\n",
      "|               27 | KID LAROI & JUSTIN BIEBER    | STAY                            |\n",
      "+------------------+------------------------------+---------------------------------+\n",
      "|               27 | DAVE FT BURNA BOY            | LOCATION                        |\n",
      "+------------------+------------------------------+---------------------------------+\n",
      "|               27 | BECKY HILL & DAVID GUETTA    | REMEMBER                        |\n",
      "+------------------+------------------------------+---------------------------------+\n",
      "|               27 | HARRY STYLES                 | ADORE YOU                       |\n",
      "+------------------+------------------------------+---------------------------------+\n",
      "|               27 | POST MALONE FT SWAE LEE      | SUNFLOWER                       |\n",
      "+------------------+------------------------------+---------------------------------+\n",
      "|               27 | LOST FREQUENCIES/CALUM SCOTT | WHERE ARE YOU NOW               |\n",
      "+------------------+------------------------------+---------------------------------+\n",
      "|               27 | CAT BURNS                    | GO                              |\n",
      "+------------------+------------------------------+---------------------------------+\n",
      "|               26 | SAINT JHN                    | ROSES                           |\n",
      "+------------------+------------------------------+---------------------------------+\n",
      "|               26 | AVA MAX                      | SWEET BUT PSYCHO                |\n",
      "+------------------+------------------------------+---------------------------------+\n",
      "|               26 | WHAM                         | LAST CHRISTMAS                  |\n",
      "+------------------+------------------------------+---------------------------------+\n",
      "|               26 | ONEREPUBLIC                  | I AIN'T WORRIED                 |\n",
      "+------------------+------------------------------+---------------------------------+\n",
      "|               26 | OLIVIA RODRIGO               | GOOD 4 U                        |\n",
      "+------------------+------------------------------+---------------------------------+\n",
      "|               26 | AJ TRACEY                    | LADBROKE GROVE                  |\n",
      "+------------------+------------------------------+---------------------------------+\n",
      "|               25 | SETTLE/GREATEST SHOWMAN ENS  | THIS IS ME                      |\n",
      "+------------------+------------------------------+---------------------------------+\n",
      "|               25 | 24KGOLDN FT IANN DIOR        | MOOD                            |\n",
      "+------------------+------------------------------+---------------------------------+\n"
     ]
    }
   ],
   "source": [
    "query = '''\n",
    "SELECT COUNT(*) AS weeks_on_chart, artist, title \n",
    "FROM tracks_in_charts as tr\n",
    "LEFT JOIN feature_table as f\n",
    "ON tr.isrc = f.isrc\n",
    "GROUP BY 2, 3\n",
    "ORDER BY 1 DESC\n",
    "LIMIT 40; \n",
    "'''\n",
    "mycursor.execute(query)\n",
    "\n",
    "# Fetch all the rows returned by the query\n",
    "result = mycursor.fetchall()\n",
    "\n",
    "# Get the column headers\n",
    "headers = [desc[0] for desc in mycursor.description]\n",
    "\n",
    "print(tabulate(result, headers=headers, tablefmt=\"grid\"))"
   ]
  },
  {
   "cell_type": "markdown",
   "id": "7a89fe23",
   "metadata": {},
   "source": [
    "#### So The Weeknd's 'Blinding Lights' has appeared in the Top 40 charts for 70 times. Let's look at The Weeknd's other popular songs."
   ]
  },
  {
   "cell_type": "code",
   "execution_count": 4,
   "id": "90050a25",
   "metadata": {},
   "outputs": [
    {
     "name": "stdout",
     "output_type": "stream",
     "text": [
      "+------------------+---------------------------+-------------------------------+--------------+\n",
      "|   weeks_on_chart | title                     | artist                        | isrc         |\n",
      "+==================+===========================+===============================+==============+\n",
      "|               70 | BLINDING LIGHTS           | WEEKND                        | USUG11904206 |\n",
      "+------------------+---------------------------+-------------------------------+--------------+\n",
      "|               35 | SAVE YOUR TEARS           | WEEKND                        | USUG12000658 |\n",
      "+------------------+---------------------------+-------------------------------+--------------+\n",
      "|               19 | CREEPIN'                  | METRO BOOMIN/WEEKND/21 SAVAGE | USUG12208791 |\n",
      "+------------------+---------------------------+-------------------------------+--------------+\n",
      "|               17 | TAKE MY BREATH            | WEEKND                        | USUG12102076 |\n",
      "+------------------+---------------------------+-------------------------------+--------------+\n",
      "|               12 | IN YOUR EYES              | WEEKND                        | USUG12000657 |\n",
      "+------------------+---------------------------+-------------------------------+--------------+\n",
      "|                9 | DIE FOR YOU               | WEEKND                        | USUG11601011 |\n",
      "+------------------+---------------------------+-------------------------------+--------------+\n",
      "|                7 | SACRIFICE                 | WEEKND                        | USUG12106685 |\n",
      "+------------------+---------------------------+-------------------------------+--------------+\n",
      "|                5 | CALL OUT MY NAME          | WEEKND                        | USUG11800560 |\n",
      "+------------------+---------------------------+-------------------------------+--------------+\n",
      "|                5 | LOST IN THE FIRE          | GESAFFELSTEIN FT WEEKND       | USQX91803314 |\n",
      "+------------------+---------------------------+-------------------------------+--------------+\n",
      "|                5 | HEARTLESS                 | WEEKND                        | USUG11904007 |\n",
      "+------------------+---------------------------+-------------------------------+--------------+\n",
      "|                5 | MOTH TO A FLAME           | SWEDISH HOUSE MAFIA/WEEKND    | USUMV2103143 |\n",
      "+------------------+---------------------------+-------------------------------+--------------+\n",
      "|                4 | OVER NOW                  | CALVIN HARRIS & WEEKND        | GBARL2000986 |\n",
      "+------------------+---------------------------+-------------------------------+--------------+\n",
      "|                4 | YOU RIGHT                 | DOJA CAT & WEEKND             | USRC12100544 |\n",
      "+------------------+---------------------------+-------------------------------+--------------+\n",
      "|                3 | AFTER HOURS               | WEEKND                        | USUG12000586 |\n",
      "+------------------+---------------------------+-------------------------------+--------------+\n",
      "|                3 | ONE RIGHT NOW             | POST MALONE & WEEKND          | USUM72120470 |\n",
      "+------------------+---------------------------+-------------------------------+--------------+\n",
      "|                2 | SMILE                     | JUICE WRLD & WEEKND           | USUG12002597 |\n",
      "+------------------+---------------------------+-------------------------------+--------------+\n",
      "|                1 | HOW DO I MAKE YOU LOVE ME | WEEKND                        | USUG12106683 |\n",
      "+------------------+---------------------------+-------------------------------+--------------+\n"
     ]
    }
   ],
   "source": [
    "query = '''\n",
    "SELECT COUNT(*) AS weeks_on_chart, title, artist, isrc\n",
    "FROM tracks_in_charts\n",
    "WHERE artist LIKE '%WEEKND%'\n",
    "GROUP BY 2, 3, 4\n",
    "ORDER BY 1 DESC;\n",
    "'''\n",
    "\n",
    "mycursor.execute(query)\n",
    "\n",
    "# Fetch all the rows returned by the query\n",
    "result = mycursor.fetchall()\n",
    "\n",
    "# Get the column headers\n",
    "headers = [desc[0] for desc in mycursor.description]\n",
    "\n",
    "print(tabulate(result, headers=headers, tablefmt=\"grid\"))"
   ]
  },
  {
   "cell_type": "markdown",
   "id": "aa2523e6",
   "metadata": {},
   "source": [
    "#### Now we look at 10 most popular artists in the past five years by number of songs in charts."
   ]
  },
  {
   "cell_type": "code",
   "execution_count": 5,
   "id": "ce1c41b5",
   "metadata": {},
   "outputs": [
    {
     "name": "stdout",
     "output_type": "stream",
     "text": [
      "+----------------+-------------------+\n",
      "| artist         |   number_of_songs |\n",
      "+================+===================+\n",
      "| TAYLOR SWIFT   |                17 |\n",
      "+----------------+-------------------+\n",
      "| BILLIE EILISH  |                16 |\n",
      "+----------------+-------------------+\n",
      "| CENTRAL CEE    |                15 |\n",
      "+----------------+-------------------+\n",
      "| D-BLOCK EUROPE |                14 |\n",
      "+----------------+-------------------+\n",
      "| DRAKE          |                14 |\n",
      "+----------------+-------------------+\n",
      "| ARIANA GRANDE  |                14 |\n",
      "+----------------+-------------------+\n",
      "| STORMZY        |                10 |\n",
      "+----------------+-------------------+\n",
      "| WEEKND         |                10 |\n",
      "+----------------+-------------------+\n",
      "| ED SHEERAN     |                10 |\n",
      "+----------------+-------------------+\n",
      "| LEWIS CAPALDI  |                 9 |\n",
      "+----------------+-------------------+\n"
     ]
    }
   ],
   "source": [
    "query = '''\n",
    "SELECT artist, COUNT(DISTINCT title) AS number_of_songs\n",
    "FROM tracks_in_charts\n",
    "GROUP BY 1\n",
    "ORDER BY 2 DESC\n",
    "LIMIT 10;\n",
    "'''\n",
    "\n",
    "mycursor.execute(query)\n",
    "\n",
    "# Fetch all the rows returned by the query\n",
    "result = mycursor.fetchall()\n",
    "\n",
    "# Get the column headers\n",
    "headers = [desc[0] for desc in mycursor.description]\n",
    "\n",
    "print(tabulate(result, headers=headers, tablefmt=\"grid\"))"
   ]
  },
  {
   "cell_type": "markdown",
   "id": "83938ccc",
   "metadata": {},
   "source": [
    "#### It's Taylor Swift! Let's look at her songs."
   ]
  },
  {
   "cell_type": "code",
   "execution_count": 6,
   "id": "48e3c281",
   "metadata": {},
   "outputs": [
    {
     "name": "stdout",
     "output_type": "stream",
     "text": [
      "+------------------+--------------------------------------+------------------------------+--------------+\n",
      "|   weeks_on_chart | title                                | artist                       | isrc         |\n",
      "+==================+======================================+==============================+==============+\n",
      "|               25 | ANTI-HERO                            | TAYLOR SWIFT                 | USUG12205736 |\n",
      "+------------------+--------------------------------------+------------------------------+--------------+\n",
      "|               13 | LAVENDER HAZE                        | TAYLOR SWIFT                 | USUG12205734 |\n",
      "+------------------+--------------------------------------+------------------------------+--------------+\n",
      "|               11 | YOU NEED TO CALM DOWN                | TAYLOR SWIFT                 | USUG11901470 |\n",
      "+------------------+--------------------------------------+------------------------------+--------------+\n",
      "|                9 | ME                                   | TAYLOR SWIFT FT BRENDON URIE | USUG11901267 |\n",
      "+------------------+--------------------------------------+------------------------------+--------------+\n",
      "|                9 | WILLOW                               | TAYLOR SWIFT                 | USUG12004699 |\n",
      "+------------------+--------------------------------------+------------------------------+--------------+\n",
      "|                8 | ALL TOO WELL (TAYLOR'S VERSION)      | TAYLOR SWIFT                 | USUG12103692 |\n",
      "+------------------+--------------------------------------+------------------------------+--------------+\n",
      "|                6 | SNOW ON THE BEACH                    | TAYLOR SWIFT FT LANA DEL REY | USUG12205721 |\n",
      "+------------------+--------------------------------------+------------------------------+--------------+\n",
      "|                5 | LOVER                                | TAYLOR SWIFT                 | USUG11901473 |\n",
      "+------------------+--------------------------------------+------------------------------+--------------+\n",
      "|                5 | CARDIGAN                             | TAYLOR SWIFT                 | USUG12002836 |\n",
      "+------------------+--------------------------------------+------------------------------+--------------+\n",
      "|                4 | EXILE                                | TAYLOR SWIFT FT BON IVER     | USUG12002838 |\n",
      "+------------------+--------------------------------------+------------------------------+--------------+\n",
      "|                4 | ALL OF THE GIRLS YOU LOVED BEFORE    | TAYLOR SWIFT                 | USUG12301406 |\n",
      "+------------------+--------------------------------------+------------------------------+--------------+\n",
      "|                2 | THE MAN                              | TAYLOR SWIFT                 | USUG11901474 |\n",
      "+------------------+--------------------------------------+------------------------------+--------------+\n",
      "|                2 | THE 1                                | TAYLOR SWIFT                 | USUG12002835 |\n",
      "+------------------+--------------------------------------+------------------------------+--------------+\n",
      "|                2 | WILDEST DREAMS (TAYLOR'S VERSION)    | TAYLOR SWIFT                 | USUG12103658 |\n",
      "+------------------+--------------------------------------+------------------------------+--------------+\n",
      "|                1 | CRUEL SUMMER                         | TAYLOR SWIFT                 | USUG11901472 |\n",
      "+------------------+--------------------------------------+------------------------------+--------------+\n",
      "|                1 | CHAMPAGNE PROBLEMS                   | TAYLOR SWIFT                 | USUG12004700 |\n",
      "+------------------+--------------------------------------+------------------------------+--------------+\n",
      "|                1 | NO BODY NO CRIME                     | TAYLOR SWIFT FT HAIM         | USUG12004707 |\n",
      "+------------------+--------------------------------------+------------------------------+--------------+\n",
      "|                1 | LOVE STORY (TAYLOR'S VERSION)        | TAYLOR SWIFT                 | USUG12100342 |\n",
      "+------------------+--------------------------------------+------------------------------+--------------+\n",
      "|                1 | MR PERFECTLY FINE (TAYLOR'S VERSION) | TAYLOR SWIFT                 | USUG12100638 |\n",
      "+------------------+--------------------------------------+------------------------------+--------------+\n",
      "|                1 | STATE OF GRACE (TAYLOR'S VERSION)    | TAYLOR SWIFT                 | USUMV2103323 |\n",
      "+------------------+--------------------------------------+------------------------------+--------------+\n",
      "|                1 | RED (TAYLOR'S VERSION)               | TAYLOR SWIFT                 | USUG12103662 |\n",
      "+------------------+--------------------------------------+------------------------------+--------------+\n"
     ]
    }
   ],
   "source": [
    "query = '''\n",
    "SELECT COUNT(*) AS weeks_on_chart, title, artist, isrc \n",
    "FROM tracks_in_charts\n",
    "WHERE artist LIKE '%TAYLOR SWIFT%'\n",
    "GROUP BY 2, 3, 4\n",
    "ORDER BY 1 DESC;\n",
    "'''\n",
    "\n",
    "mycursor.execute(query)\n",
    "\n",
    "# Fetch all the rows returned by the query\n",
    "result = mycursor.fetchall()\n",
    "\n",
    "# Get the column headers\n",
    "headers = [desc[0] for desc in mycursor.description]\n",
    "\n",
    "print(tabulate(result, headers=headers, tablefmt=\"grid\"))"
   ]
  },
  {
   "cell_type": "markdown",
   "id": "fa715eb9",
   "metadata": {},
   "source": [
    "#### 'Anti-Hero' is her most popular song."
   ]
  },
  {
   "cell_type": "markdown",
   "id": "3be4c52c",
   "metadata": {},
   "source": [
    "#### You can do a lot of fun queries with this database. "
   ]
  },
  {
   "cell_type": "code",
   "execution_count": 7,
   "id": "e6b5bd2e",
   "metadata": {
    "scrolled": false
   },
   "outputs": [],
   "source": [
    "# Now close the connection to the database.\n",
    "mydb.close()"
   ]
  }
 ],
 "metadata": {
  "kernelspec": {
   "display_name": "Python 3 (ipykernel)",
   "language": "python",
   "name": "python3"
  },
  "language_info": {
   "codemirror_mode": {
    "name": "ipython",
    "version": 3
   },
   "file_extension": ".py",
   "mimetype": "text/x-python",
   "name": "python",
   "nbconvert_exporter": "python",
   "pygments_lexer": "ipython3",
   "version": "3.11.2"
  }
 },
 "nbformat": 4,
 "nbformat_minor": 5
}
